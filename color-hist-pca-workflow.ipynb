{
 "cells": [
  {
   "cell_type": "markdown",
   "metadata": {},
   "source": [
    "## Get list of paths to images for a given source path"
   ]
  },
  {
   "cell_type": "code",
   "execution_count": 1,
   "metadata": {
    "collapsed": true
   },
   "outputs": [],
   "source": [
    "in_path = \"examples/\""
   ]
  },
  {
   "cell_type": "code",
   "execution_count": 2,
   "metadata": {
    "collapsed": true
   },
   "outputs": [],
   "source": [
    "from colorstats.image_paths import rel_paths\n",
    "\n",
    "img_paths = rel_paths(in_path)"
   ]
  },
  {
   "cell_type": "markdown",
   "metadata": {},
   "source": [
    "## Get Principle Components of color histograms from list of image paths"
   ]
  },
  {
   "cell_type": "code",
   "execution_count": 3,
   "metadata": {
    "collapsed": false
   },
   "outputs": [
    {
     "data": {
      "text/html": [
       "<div>\n",
       "<table border=\"1\" class=\"dataframe\">\n",
       "  <thead>\n",
       "    <tr style=\"text-align: right;\">\n",
       "      <th></th>\n",
       "      <th>image_paths</th>\n",
       "      <th>HuePC1</th>\n",
       "      <th>HuePC2</th>\n",
       "      <th>HuePC3</th>\n",
       "      <th>SatPC1</th>\n",
       "      <th>SatPC2</th>\n",
       "      <th>SatPC3</th>\n",
       "      <th>ValPC1</th>\n",
       "      <th>ValPC2</th>\n",
       "      <th>ValPC3</th>\n",
       "    </tr>\n",
       "  </thead>\n",
       "  <tbody>\n",
       "    <tr>\n",
       "      <th>0</th>\n",
       "      <td>examples/Rothko_images/AMICO_BOSTON_103832163.jpg</td>\n",
       "      <td>0.008397</td>\n",
       "      <td>-0.021765</td>\n",
       "      <td>0.074313</td>\n",
       "      <td>0.031826</td>\n",
       "      <td>0.021481</td>\n",
       "      <td>0.112045</td>\n",
       "      <td>0.000768</td>\n",
       "      <td>-0.074567</td>\n",
       "      <td>0.060491</td>\n",
       "    </tr>\n",
       "    <tr>\n",
       "      <th>1</th>\n",
       "      <td>examples/Rothko_images/AMICO_CL_103800789.jpg</td>\n",
       "      <td>0.063658</td>\n",
       "      <td>-0.104813</td>\n",
       "      <td>-0.096381</td>\n",
       "      <td>0.086034</td>\n",
       "      <td>-0.100768</td>\n",
       "      <td>-0.020354</td>\n",
       "      <td>-0.002421</td>\n",
       "      <td>-0.086799</td>\n",
       "      <td>0.067741</td>\n",
       "    </tr>\n",
       "    <tr>\n",
       "      <th>2</th>\n",
       "      <td>examples/Rothko_images/AMICO_DALLAS_103842196.jpg</td>\n",
       "      <td>0.092875</td>\n",
       "      <td>-0.004038</td>\n",
       "      <td>0.015750</td>\n",
       "      <td>-0.013510</td>\n",
       "      <td>-0.046047</td>\n",
       "      <td>0.032563</td>\n",
       "      <td>-0.025010</td>\n",
       "      <td>0.014500</td>\n",
       "      <td>-0.031438</td>\n",
       "    </tr>\n",
       "    <tr>\n",
       "      <th>3</th>\n",
       "      <td>examples/Rothko_images/AMICO_DALLAS_103842510.jpg</td>\n",
       "      <td>0.034146</td>\n",
       "      <td>0.008274</td>\n",
       "      <td>0.028042</td>\n",
       "      <td>0.026491</td>\n",
       "      <td>-0.018352</td>\n",
       "      <td>-0.033410</td>\n",
       "      <td>-0.026581</td>\n",
       "      <td>0.041962</td>\n",
       "      <td>0.008018</td>\n",
       "    </tr>\n",
       "    <tr>\n",
       "      <th>4</th>\n",
       "      <td>examples/Rothko_images/AMICO_DALLAS_103842720.jpg</td>\n",
       "      <td>-0.046007</td>\n",
       "      <td>0.054262</td>\n",
       "      <td>-0.030899</td>\n",
       "      <td>-0.029184</td>\n",
       "      <td>0.020406</td>\n",
       "      <td>-0.013260</td>\n",
       "      <td>-0.018491</td>\n",
       "      <td>0.025778</td>\n",
       "      <td>0.036016</td>\n",
       "    </tr>\n",
       "  </tbody>\n",
       "</table>\n",
       "</div>"
      ],
      "text/plain": [
       "                                         image_paths    HuePC1    HuePC2  \\\n",
       "0  examples/Rothko_images/AMICO_BOSTON_103832163.jpg  0.008397 -0.021765   \n",
       "1      examples/Rothko_images/AMICO_CL_103800789.jpg  0.063658 -0.104813   \n",
       "2  examples/Rothko_images/AMICO_DALLAS_103842196.jpg  0.092875 -0.004038   \n",
       "3  examples/Rothko_images/AMICO_DALLAS_103842510.jpg  0.034146  0.008274   \n",
       "4  examples/Rothko_images/AMICO_DALLAS_103842720.jpg -0.046007  0.054262   \n",
       "\n",
       "     HuePC3    SatPC1    SatPC2    SatPC3    ValPC1    ValPC2    ValPC3  \n",
       "0  0.074313  0.031826  0.021481  0.112045  0.000768 -0.074567  0.060491  \n",
       "1 -0.096381  0.086034 -0.100768 -0.020354 -0.002421 -0.086799  0.067741  \n",
       "2  0.015750 -0.013510 -0.046047  0.032563 -0.025010  0.014500 -0.031438  \n",
       "3  0.028042  0.026491 -0.018352 -0.033410 -0.026581  0.041962  0.008018  \n",
       "4 -0.030899 -0.029184  0.020406 -0.013260 -0.018491  0.025778  0.036016  "
      ]
     },
     "execution_count": 3,
     "metadata": {},
     "output_type": "execute_result"
    }
   ],
   "source": [
    "from colorstats.PrCompColors import *\n",
    "\n",
    "df = HSV_PCA(img_paths)\n",
    "df.head()"
   ]
  }
 ],
 "metadata": {
  "kernelspec": {
   "display_name": "Python 2",
   "language": "python",
   "name": "python2"
  },
  "language_info": {
   "codemirror_mode": {
    "name": "ipython",
    "version": 2
   },
   "file_extension": ".py",
   "mimetype": "text/x-python",
   "name": "python",
   "nbconvert_exporter": "python",
   "pygments_lexer": "ipython2",
   "version": "2.7.11"
  }
 },
 "nbformat": 4,
 "nbformat_minor": 0
}
