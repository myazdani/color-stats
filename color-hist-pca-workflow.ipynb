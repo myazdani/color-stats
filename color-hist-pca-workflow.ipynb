{
 "cells": [
  {
   "cell_type": "markdown",
   "metadata": {},
   "source": [
    "## Get list of paths to images for a given source path"
   ]
  },
  {
   "cell_type": "code",
   "execution_count": 1,
   "metadata": {
    "collapsed": true
   },
   "outputs": [],
   "source": [
    "in_path = \"examples/\""
   ]
  },
  {
   "cell_type": "code",
   "execution_count": 2,
   "metadata": {
    "collapsed": true
   },
   "outputs": [],
   "source": [
    "from colorstats.image_paths import rel_paths\n",
    "\n",
    "img_paths = rel_paths(in_path)"
   ]
  },
  {
   "cell_type": "markdown",
   "metadata": {},
   "source": [
    "## Get Principle Components of color histograms from list of image paths"
   ]
  },
  {
   "cell_type": "code",
   "execution_count": 3,
   "metadata": {
    "collapsed": false
   },
   "outputs": [
    {
     "data": {
      "text/html": [
       "<div>\n",
       "<table border=\"1\" class=\"dataframe\">\n",
       "  <thead>\n",
       "    <tr style=\"text-align: right;\">\n",
       "      <th></th>\n",
       "      <th>image_paths</th>\n",
       "      <th>HuePC1</th>\n",
       "      <th>HuePC2</th>\n",
       "      <th>HuePC3</th>\n",
       "      <th>SatPC1</th>\n",
       "      <th>SatPC2</th>\n",
       "      <th>SatPC3</th>\n",
       "      <th>ValPC1</th>\n",
       "      <th>ValPC2</th>\n",
       "      <th>ValPC3</th>\n",
       "    </tr>\n",
       "  </thead>\n",
       "  <tbody>\n",
       "    <tr>\n",
       "      <th>0</th>\n",
       "      <td>examples/Rothko_images/AMICO_BOSTON_103832163.jpg</td>\n",
       "      <td>0.010492</td>\n",
       "      <td>-0.027364</td>\n",
       "      <td>0.073003</td>\n",
       "      <td>0.031384</td>\n",
       "      <td>0.008244</td>\n",
       "      <td>0.112975</td>\n",
       "      <td>0.005848</td>\n",
       "      <td>-0.070053</td>\n",
       "      <td>0.064235</td>\n",
       "    </tr>\n",
       "    <tr>\n",
       "      <th>1</th>\n",
       "      <td>examples/Rothko_images/AMICO_CL_103800789.jpg</td>\n",
       "      <td>0.071343</td>\n",
       "      <td>-0.087614</td>\n",
       "      <td>-0.103319</td>\n",
       "      <td>0.088696</td>\n",
       "      <td>-0.090342</td>\n",
       "      <td>-0.038394</td>\n",
       "      <td>0.002709</td>\n",
       "      <td>-0.082130</td>\n",
       "      <td>0.073013</td>\n",
       "    </tr>\n",
       "    <tr>\n",
       "      <th>2</th>\n",
       "      <td>examples/Rothko_images/AMICO_DALLAS_103842196.jpg</td>\n",
       "      <td>0.093446</td>\n",
       "      <td>0.000171</td>\n",
       "      <td>0.018077</td>\n",
       "      <td>-0.010882</td>\n",
       "      <td>-0.050254</td>\n",
       "      <td>0.031884</td>\n",
       "      <td>-0.024490</td>\n",
       "      <td>0.012181</td>\n",
       "      <td>-0.031993</td>\n",
       "    </tr>\n",
       "    <tr>\n",
       "      <th>3</th>\n",
       "      <td>examples/Rothko_images/AMICO_DALLAS_103842510.jpg</td>\n",
       "      <td>0.033170</td>\n",
       "      <td>0.011247</td>\n",
       "      <td>0.026108</td>\n",
       "      <td>0.028046</td>\n",
       "      <td>-0.010756</td>\n",
       "      <td>-0.042433</td>\n",
       "      <td>-0.026455</td>\n",
       "      <td>0.041480</td>\n",
       "      <td>0.005932</td>\n",
       "    </tr>\n",
       "    <tr>\n",
       "      <th>4</th>\n",
       "      <td>examples/Rothko_images/AMICO_DALLAS_103842720.jpg</td>\n",
       "      <td>-0.047250</td>\n",
       "      <td>0.054199</td>\n",
       "      <td>-0.027540</td>\n",
       "      <td>-0.028720</td>\n",
       "      <td>0.021792</td>\n",
       "      <td>-0.013466</td>\n",
       "      <td>-0.017197</td>\n",
       "      <td>0.026558</td>\n",
       "      <td>0.035779</td>\n",
       "    </tr>\n",
       "  </tbody>\n",
       "</table>\n",
       "</div>"
      ],
      "text/plain": [
       "                                         image_paths    HuePC1    HuePC2  \\\n",
       "0  examples/Rothko_images/AMICO_BOSTON_103832163.jpg  0.010492 -0.027364   \n",
       "1      examples/Rothko_images/AMICO_CL_103800789.jpg  0.071343 -0.087614   \n",
       "2  examples/Rothko_images/AMICO_DALLAS_103842196.jpg  0.093446  0.000171   \n",
       "3  examples/Rothko_images/AMICO_DALLAS_103842510.jpg  0.033170  0.011247   \n",
       "4  examples/Rothko_images/AMICO_DALLAS_103842720.jpg -0.047250  0.054199   \n",
       "\n",
       "     HuePC3    SatPC1    SatPC2    SatPC3    ValPC1    ValPC2    ValPC3  \n",
       "0  0.073003  0.031384  0.008244  0.112975  0.005848 -0.070053  0.064235  \n",
       "1 -0.103319  0.088696 -0.090342 -0.038394  0.002709 -0.082130  0.073013  \n",
       "2  0.018077 -0.010882 -0.050254  0.031884 -0.024490  0.012181 -0.031993  \n",
       "3  0.026108  0.028046 -0.010756 -0.042433 -0.026455  0.041480  0.005932  \n",
       "4 -0.027540 -0.028720  0.021792 -0.013466 -0.017197  0.026558  0.035779  "
      ]
     },
     "execution_count": 3,
     "metadata": {},
     "output_type": "execute_result"
    }
   ],
   "source": [
    "from colorstats.PrCompColors import *\n",
    "\n",
    "df = HSV_PCA(img_paths)\n",
    "df.head()"
   ]
  },
  {
   "cell_type": "code",
   "execution_count": null,
   "metadata": {
    "collapsed": true
   },
   "outputs": [],
   "source": []
  }
 ],
 "metadata": {
  "kernelspec": {
   "display_name": "Python 2",
   "language": "python",
   "name": "python2"
  },
  "language_info": {
   "codemirror_mode": {
    "name": "ipython",
    "version": 2
   },
   "file_extension": ".py",
   "mimetype": "text/x-python",
   "name": "python",
   "nbconvert_exporter": "python",
   "pygments_lexer": "ipython2",
   "version": "2.7.11"
  }
 },
 "nbformat": 4,
 "nbformat_minor": 0
}
