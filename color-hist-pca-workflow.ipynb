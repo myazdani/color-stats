{
 "cells": [
  {
   "cell_type": "markdown",
   "metadata": {},
   "source": [
    "## Get list of paths to images for a given source path"
   ]
  },
  {
   "cell_type": "code",
   "execution_count": 2,
   "metadata": {
    "collapsed": true
   },
   "outputs": [],
   "source": [
    "in_path = \"examples/\""
   ]
  },
  {
   "cell_type": "code",
   "execution_count": 3,
   "metadata": {
    "collapsed": true
   },
   "outputs": [],
   "source": [
    "from colorstats.image_paths import rel_paths\n",
    "\n",
    "img_paths = rel_paths(in_path)"
   ]
  },
  {
   "cell_type": "markdown",
   "metadata": {},
   "source": [
    "## Get Principle Components of color histograms from list of image paths"
   ]
  },
  {
   "cell_type": "code",
   "execution_count": 4,
   "metadata": {
    "collapsed": false
   },
   "outputs": [
    {
     "data": {
      "text/html": [
       "<div>\n",
       "<table border=\"1\" class=\"dataframe\">\n",
       "  <thead>\n",
       "    <tr style=\"text-align: right;\">\n",
       "      <th></th>\n",
       "      <th>image_paths</th>\n",
       "      <th>HuePC1</th>\n",
       "      <th>HuePC2</th>\n",
       "      <th>HuePC3</th>\n",
       "      <th>SatPC1</th>\n",
       "      <th>SatPC2</th>\n",
       "      <th>SatPC3</th>\n",
       "      <th>ValPC1</th>\n",
       "      <th>ValPC2</th>\n",
       "      <th>ValPC3</th>\n",
       "    </tr>\n",
       "  </thead>\n",
       "  <tbody>\n",
       "    <tr>\n",
       "      <th>0</th>\n",
       "      <td>examples/Rothko_images/AMICO_BOSTON_103832163.jpg</td>\n",
       "      <td>0.010491</td>\n",
       "      <td>-0.027359</td>\n",
       "      <td>0.073044</td>\n",
       "      <td>0.031374</td>\n",
       "      <td>0.008241</td>\n",
       "      <td>0.112929</td>\n",
       "      <td>0.005848</td>\n",
       "      <td>-0.070051</td>\n",
       "      <td>0.064291</td>\n",
       "    </tr>\n",
       "    <tr>\n",
       "      <th>1</th>\n",
       "      <td>examples/Rothko_images/AMICO_CL_103800789.jpg</td>\n",
       "      <td>0.071339</td>\n",
       "      <td>-0.087633</td>\n",
       "      <td>-0.103327</td>\n",
       "      <td>0.088706</td>\n",
       "      <td>-0.090232</td>\n",
       "      <td>-0.038658</td>\n",
       "      <td>0.002717</td>\n",
       "      <td>-0.082126</td>\n",
       "      <td>0.073064</td>\n",
       "    </tr>\n",
       "    <tr>\n",
       "      <th>2</th>\n",
       "      <td>examples/Rothko_images/AMICO_DALLAS_103842196.jpg</td>\n",
       "      <td>0.093444</td>\n",
       "      <td>0.000158</td>\n",
       "      <td>0.018069</td>\n",
       "      <td>-0.010889</td>\n",
       "      <td>-0.050297</td>\n",
       "      <td>0.032148</td>\n",
       "      <td>-0.024492</td>\n",
       "      <td>0.012125</td>\n",
       "      <td>-0.032165</td>\n",
       "    </tr>\n",
       "    <tr>\n",
       "      <th>3</th>\n",
       "      <td>examples/Rothko_images/AMICO_DALLAS_103842510.jpg</td>\n",
       "      <td>0.033170</td>\n",
       "      <td>0.011251</td>\n",
       "      <td>0.026105</td>\n",
       "      <td>0.028043</td>\n",
       "      <td>-0.010797</td>\n",
       "      <td>-0.042356</td>\n",
       "      <td>-0.026457</td>\n",
       "      <td>0.041492</td>\n",
       "      <td>0.005882</td>\n",
       "    </tr>\n",
       "    <tr>\n",
       "      <th>4</th>\n",
       "      <td>examples/Rothko_images/AMICO_DALLAS_103842720.jpg</td>\n",
       "      <td>-0.047251</td>\n",
       "      <td>0.054197</td>\n",
       "      <td>-0.027538</td>\n",
       "      <td>-0.028720</td>\n",
       "      <td>0.021790</td>\n",
       "      <td>-0.013429</td>\n",
       "      <td>-0.017192</td>\n",
       "      <td>0.026474</td>\n",
       "      <td>0.035835</td>\n",
       "    </tr>\n",
       "  </tbody>\n",
       "</table>\n",
       "</div>"
      ],
      "text/plain": [
       "                                         image_paths    HuePC1    HuePC2  \\\n",
       "0  examples/Rothko_images/AMICO_BOSTON_103832163.jpg  0.010491 -0.027359   \n",
       "1      examples/Rothko_images/AMICO_CL_103800789.jpg  0.071339 -0.087633   \n",
       "2  examples/Rothko_images/AMICO_DALLAS_103842196.jpg  0.093444  0.000158   \n",
       "3  examples/Rothko_images/AMICO_DALLAS_103842510.jpg  0.033170  0.011251   \n",
       "4  examples/Rothko_images/AMICO_DALLAS_103842720.jpg -0.047251  0.054197   \n",
       "\n",
       "     HuePC3    SatPC1    SatPC2    SatPC3    ValPC1    ValPC2    ValPC3  \n",
       "0  0.073044  0.031374  0.008241  0.112929  0.005848 -0.070051  0.064291  \n",
       "1 -0.103327  0.088706 -0.090232 -0.038658  0.002717 -0.082126  0.073064  \n",
       "2  0.018069 -0.010889 -0.050297  0.032148 -0.024492  0.012125 -0.032165  \n",
       "3  0.026105  0.028043 -0.010797 -0.042356 -0.026457  0.041492  0.005882  \n",
       "4 -0.027538 -0.028720  0.021790 -0.013429 -0.017192  0.026474  0.035835  "
      ]
     },
     "execution_count": 4,
     "metadata": {},
     "output_type": "execute_result"
    }
   ],
   "source": [
    "from colorstats.PrCompColors import *\n",
    "\n",
    "df = HSV_PCA(img_paths)\n",
    "df.head()"
   ]
  },
  {
   "cell_type": "code",
   "execution_count": null,
   "metadata": {
    "collapsed": true
   },
   "outputs": [],
   "source": []
  }
 ],
 "metadata": {
  "kernelspec": {
   "display_name": "Python 2",
   "language": "python",
   "name": "python2"
  },
  "language_info": {
   "codemirror_mode": {
    "name": "ipython",
    "version": 2
   },
   "file_extension": ".py",
   "mimetype": "text/x-python",
   "name": "python",
   "nbconvert_exporter": "python",
   "pygments_lexer": "ipython2",
   "version": "2.7.11"
  }
 },
 "nbformat": 4,
 "nbformat_minor": 0
}
