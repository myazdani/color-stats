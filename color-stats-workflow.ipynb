{
 "cells": [
  {
   "cell_type": "markdown",
   "metadata": {},
   "source": [
    "## Get list of paths to images for a given source path"
   ]
  },
  {
   "cell_type": "code",
   "execution_count": 1,
   "metadata": {
    "collapsed": true
   },
   "outputs": [],
   "source": [
    "in_path = \"examples/\""
   ]
  },
  {
   "cell_type": "code",
   "execution_count": 2,
   "metadata": {
    "collapsed": false
   },
   "outputs": [],
   "source": [
    "from colorstats.image_paths import rel_paths\n",
    "\n",
    "img_paths = rel_paths(in_path)"
   ]
  },
  {
   "cell_type": "markdown",
   "metadata": {},
   "source": [
    "## Get color summary stats from list of image paths"
   ]
  },
  {
   "cell_type": "code",
   "execution_count": 3,
   "metadata": {
    "collapsed": false
   },
   "outputs": [
    {
     "data": {
      "text/html": [
       "<div>\n",
       "<table border=\"1\" class=\"dataframe\">\n",
       "  <thead>\n",
       "    <tr style=\"text-align: right;\">\n",
       "      <th></th>\n",
       "      <th>image_paths</th>\n",
       "      <th>H.avg</th>\n",
       "      <th>S.avg</th>\n",
       "      <th>V.avg</th>\n",
       "      <th>H.std</th>\n",
       "      <th>S.std</th>\n",
       "      <th>V.std</th>\n",
       "    </tr>\n",
       "  </thead>\n",
       "  <tbody>\n",
       "    <tr>\n",
       "      <th>0</th>\n",
       "      <td>examples/Rothko_images/AMICO_BOSTON_103832163.jpg</td>\n",
       "      <td>0.591066</td>\n",
       "      <td>0.174795</td>\n",
       "      <td>55.413468</td>\n",
       "      <td>3.112684</td>\n",
       "      <td>13.494659</td>\n",
       "      <td>5.466174</td>\n",
       "    </tr>\n",
       "    <tr>\n",
       "      <th>1</th>\n",
       "      <td>examples/Rothko_images/AMICO_CL_103800789.jpg</td>\n",
       "      <td>0.591200</td>\n",
       "      <td>0.236605</td>\n",
       "      <td>41.213453</td>\n",
       "      <td>12.212962</td>\n",
       "      <td>6.561629</td>\n",
       "      <td>2.073421</td>\n",
       "    </tr>\n",
       "    <tr>\n",
       "      <th>2</th>\n",
       "      <td>examples/Rothko_images/AMICO_DALLAS_103842196.jpg</td>\n",
       "      <td>0.608564</td>\n",
       "      <td>0.686697</td>\n",
       "      <td>154.098771</td>\n",
       "      <td>5.511692</td>\n",
       "      <td>14.688288</td>\n",
       "      <td>10.800832</td>\n",
       "    </tr>\n",
       "    <tr>\n",
       "      <th>3</th>\n",
       "      <td>examples/Rothko_images/AMICO_DALLAS_103842510.jpg</td>\n",
       "      <td>0.575403</td>\n",
       "      <td>0.867253</td>\n",
       "      <td>194.616787</td>\n",
       "      <td>2.835253</td>\n",
       "      <td>6.305062</td>\n",
       "      <td>4.587103</td>\n",
       "    </tr>\n",
       "    <tr>\n",
       "      <th>4</th>\n",
       "      <td>examples/Rothko_images/AMICO_DALLAS_103842720.jpg</td>\n",
       "      <td>0.582585</td>\n",
       "      <td>0.128984</td>\n",
       "      <td>209.342227</td>\n",
       "      <td>9.753724</td>\n",
       "      <td>5.277030</td>\n",
       "      <td>13.965810</td>\n",
       "    </tr>\n",
       "  </tbody>\n",
       "</table>\n",
       "</div>"
      ],
      "text/plain": [
       "                                         image_paths     H.avg     S.avg  \\\n",
       "0  examples/Rothko_images/AMICO_BOSTON_103832163.jpg  0.591066  0.174795   \n",
       "1      examples/Rothko_images/AMICO_CL_103800789.jpg  0.591200  0.236605   \n",
       "2  examples/Rothko_images/AMICO_DALLAS_103842196.jpg  0.608564  0.686697   \n",
       "3  examples/Rothko_images/AMICO_DALLAS_103842510.jpg  0.575403  0.867253   \n",
       "4  examples/Rothko_images/AMICO_DALLAS_103842720.jpg  0.582585  0.128984   \n",
       "\n",
       "        V.avg      H.std      S.std      V.std  \n",
       "0   55.413468   3.112684  13.494659   5.466174  \n",
       "1   41.213453  12.212962   6.561629   2.073421  \n",
       "2  154.098771   5.511692  14.688288  10.800832  \n",
       "3  194.616787   2.835253   6.305062   4.587103  \n",
       "4  209.342227   9.753724   5.277030  13.965810  "
      ]
     },
     "execution_count": 3,
     "metadata": {},
     "output_type": "execute_result"
    }
   ],
   "source": [
    "from colorstats.avg_std import HSV_avg_std\n",
    "\n",
    "df = HSV_avg_std(img_paths)\n",
    "df.head()"
   ]
  },
  {
   "cell_type": "code",
   "execution_count": null,
   "metadata": {
    "collapsed": true
   },
   "outputs": [],
   "source": []
  }
 ],
 "metadata": {
  "kernelspec": {
   "display_name": "Python 2",
   "language": "python",
   "name": "python2"
  },
  "language_info": {
   "codemirror_mode": {
    "name": "ipython",
    "version": 2
   },
   "file_extension": ".py",
   "mimetype": "text/x-python",
   "name": "python",
   "nbconvert_exporter": "python",
   "pygments_lexer": "ipython2",
   "version": "2.7.11"
  }
 },
 "nbformat": 4,
 "nbformat_minor": 0
}
